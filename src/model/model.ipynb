{
 "cells": [
  {
   "cell_type": "markdown",
   "metadata": {},
   "source": [
    "### Import Library"
   ]
  },
  {
   "cell_type": "code",
   "execution_count": 41,
   "metadata": {},
   "outputs": [],
   "source": [
    "import tensorflow as tf\n",
    "from tensorflow.keras import layers, models\n",
    "from tensorflow.keras.preprocessing.image import ImageDataGenerator\n",
    "import matplotlib.pyplot as plt"
   ]
  },
  {
   "cell_type": "markdown",
   "metadata": {},
   "source": [
    "### Callback"
   ]
  },
  {
   "cell_type": "code",
   "execution_count": 42,
   "metadata": {},
   "outputs": [],
   "source": [
    "class AccuracyCallback(tf.keras.callbacks.Callback):\n",
    "    def on_epoch_end(self, epoch, logs=None):\n",
    "        if logs['val_accuracy'] >= 0.74:\n",
    "            self.model.stop_training = True"
   ]
  },
  {
   "cell_type": "markdown",
   "metadata": {},
   "source": [
    "### Atur dataset"
   ]
  },
  {
   "cell_type": "code",
   "execution_count": 43,
   "metadata": {},
   "outputs": [
    {
     "name": "stdout",
     "output_type": "stream",
     "text": [
      "Found 1139 images belonging to 6 classes.\n",
      "Found 282 images belonging to 6 classes.\n"
     ]
    }
   ],
   "source": [
    "dataset_path = '../../data/raw'\n",
    "\n",
    "# Augmentasi\n",
    "datagen = ImageDataGenerator(\n",
    "    rescale=1./255,\n",
    "    shear_range=0.2,\n",
    "    zoom_range=0.2,\n",
    "    horizontal_flip=True,\n",
    "    # brightness_range=[0.5, 1.5],\n",
    "    validation_split=0.2\n",
    ")\n",
    "\n",
    "# Untuk training dan validasi\n",
    "train_generator = datagen.flow_from_directory(\n",
    "    dataset_path,\n",
    "    target_size=(128, 128),\n",
    "    batch_size=32,\n",
    "    class_mode='categorical',\n",
    "    subset='training'\n",
    ")\n",
    "\n",
    "validation_generator = datagen.flow_from_directory(\n",
    "    dataset_path,\n",
    "    target_size=(128, 128),\n",
    "    batch_size=32,\n",
    "    class_mode='categorical',\n",
    "    subset='validation'\n",
    ")"
   ]
  },
  {
   "cell_type": "markdown",
   "metadata": {},
   "source": [
    "### Bangun model"
   ]
  },
  {
   "cell_type": "code",
   "execution_count": 44,
   "metadata": {},
   "outputs": [],
   "source": [
    "# Buat model\n",
    "model = models.Sequential()\n",
    "model.add(layers.Conv2D(32, (3, 3), activation='relu', input_shape=(128, 128, 3)))\n",
    "model.add(layers.MaxPooling2D((2, 2)))\n",
    "model.add(layers.Conv2D(64, (3, 3), activation='relu'))\n",
    "model.add(layers.MaxPooling2D((2, 2)))\n",
    "model.add(layers.Conv2D(128, (3, 3), activation='relu'))\n",
    "model.add(layers.MaxPooling2D((2, 2)))\n",
    "model.add(layers.Flatten())\n",
    "model.add(layers.Dense(6, activation='softmax'))"
   ]
  },
  {
   "cell_type": "markdown",
   "metadata": {},
   "source": [
    "### Compile model"
   ]
  },
  {
   "cell_type": "code",
   "execution_count": 45,
   "metadata": {},
   "outputs": [],
   "source": [
    "# Compile model\n",
    "model.compile(optimizer='adam',\n",
    "              loss='categorical_crossentropy',\n",
    "              metrics=['accuracy'])\n"
   ]
  },
  {
   "cell_type": "markdown",
   "metadata": {},
   "source": [
    "### Train model"
   ]
  },
  {
   "cell_type": "code",
   "execution_count": 46,
   "metadata": {},
   "outputs": [
    {
     "name": "stdout",
     "output_type": "stream",
     "text": [
      "Epoch 1/1000\n",
      "36/36 [==============================] - 20s 511ms/step - loss: 1.6131 - accuracy: 0.3275 - val_loss: 1.6010 - val_accuracy: 0.4291\n",
      "Epoch 2/1000\n",
      "36/36 [==============================] - 16s 436ms/step - loss: 1.2618 - accuracy: 0.5338 - val_loss: 1.4801 - val_accuracy: 0.5035\n",
      "Epoch 3/1000\n",
      "36/36 [==============================] - 16s 436ms/step - loss: 1.0656 - accuracy: 0.6313 - val_loss: 1.3688 - val_accuracy: 0.5319\n",
      "Epoch 4/1000\n",
      "36/36 [==============================] - 16s 432ms/step - loss: 0.9581 - accuracy: 0.6567 - val_loss: 1.3466 - val_accuracy: 0.5638\n",
      "Epoch 5/1000\n",
      "36/36 [==============================] - 16s 432ms/step - loss: 0.8825 - accuracy: 0.6953 - val_loss: 1.2512 - val_accuracy: 0.5851\n",
      "Epoch 6/1000\n",
      "36/36 [==============================] - 15s 431ms/step - loss: 0.7837 - accuracy: 0.7375 - val_loss: 1.2605 - val_accuracy: 0.6418\n",
      "Epoch 7/1000\n",
      "36/36 [==============================] - 17s 460ms/step - loss: 0.7134 - accuracy: 0.7568 - val_loss: 1.3281 - val_accuracy: 0.6170\n",
      "Epoch 8/1000\n",
      "36/36 [==============================] - 16s 435ms/step - loss: 0.6908 - accuracy: 0.7656 - val_loss: 1.1985 - val_accuracy: 0.6241\n",
      "Epoch 9/1000\n",
      "36/36 [==============================] - 16s 437ms/step - loss: 0.6309 - accuracy: 0.7752 - val_loss: 1.2709 - val_accuracy: 0.6277\n",
      "Epoch 10/1000\n",
      "36/36 [==============================] - 16s 439ms/step - loss: 0.5327 - accuracy: 0.8156 - val_loss: 1.3065 - val_accuracy: 0.6596\n",
      "Epoch 11/1000\n",
      "36/36 [==============================] - 16s 436ms/step - loss: 0.5260 - accuracy: 0.8200 - val_loss: 1.3846 - val_accuracy: 0.5993\n",
      "Epoch 12/1000\n",
      "36/36 [==============================] - 16s 451ms/step - loss: 0.5146 - accuracy: 0.8288 - val_loss: 1.2317 - val_accuracy: 0.6206\n",
      "Epoch 13/1000\n",
      "36/36 [==============================] - 16s 436ms/step - loss: 0.3780 - accuracy: 0.8894 - val_loss: 1.4219 - val_accuracy: 0.6560\n",
      "Epoch 14/1000\n",
      "36/36 [==============================] - 17s 465ms/step - loss: 0.4157 - accuracy: 0.8622 - val_loss: 1.4141 - val_accuracy: 0.6879\n",
      "Epoch 15/1000\n",
      "36/36 [==============================] - 16s 451ms/step - loss: 0.4363 - accuracy: 0.8534 - val_loss: 1.3486 - val_accuracy: 0.6631\n",
      "Epoch 16/1000\n",
      "36/36 [==============================] - 16s 434ms/step - loss: 0.3431 - accuracy: 0.8850 - val_loss: 1.2786 - val_accuracy: 0.6738\n",
      "Epoch 17/1000\n",
      "36/36 [==============================] - 16s 432ms/step - loss: 0.2923 - accuracy: 0.9008 - val_loss: 1.1609 - val_accuracy: 0.6950\n",
      "Epoch 18/1000\n",
      "36/36 [==============================] - 16s 437ms/step - loss: 0.2719 - accuracy: 0.9122 - val_loss: 1.4306 - val_accuracy: 0.6738\n",
      "Epoch 19/1000\n",
      "36/36 [==============================] - 16s 431ms/step - loss: 0.2685 - accuracy: 0.9052 - val_loss: 1.5730 - val_accuracy: 0.6631\n",
      "Epoch 20/1000\n",
      "36/36 [==============================] - 16s 439ms/step - loss: 0.2905 - accuracy: 0.9034 - val_loss: 1.3406 - val_accuracy: 0.6950\n",
      "Epoch 21/1000\n",
      "36/36 [==============================] - 16s 439ms/step - loss: 0.2746 - accuracy: 0.9157 - val_loss: 1.4029 - val_accuracy: 0.7163\n",
      "Epoch 22/1000\n",
      "36/36 [==============================] - 16s 435ms/step - loss: 0.1845 - accuracy: 0.9394 - val_loss: 1.2537 - val_accuracy: 0.7128\n",
      "Epoch 23/1000\n",
      "36/36 [==============================] - 17s 467ms/step - loss: 0.1652 - accuracy: 0.9491 - val_loss: 1.6449 - val_accuracy: 0.7128\n",
      "Epoch 24/1000\n",
      "36/36 [==============================] - 16s 441ms/step - loss: 0.1721 - accuracy: 0.9421 - val_loss: 1.4350 - val_accuracy: 0.7057\n",
      "Epoch 25/1000\n",
      "36/36 [==============================] - 18s 510ms/step - loss: 0.1148 - accuracy: 0.9614 - val_loss: 1.5556 - val_accuracy: 0.7092\n",
      "Epoch 26/1000\n",
      "36/36 [==============================] - 18s 494ms/step - loss: 0.1387 - accuracy: 0.9517 - val_loss: 1.6403 - val_accuracy: 0.6773\n",
      "Epoch 27/1000\n",
      "36/36 [==============================] - 16s 455ms/step - loss: 0.1061 - accuracy: 0.9719 - val_loss: 1.4923 - val_accuracy: 0.7128\n",
      "Epoch 28/1000\n",
      "36/36 [==============================] - 17s 472ms/step - loss: 0.1193 - accuracy: 0.9570 - val_loss: 1.7955 - val_accuracy: 0.7092\n",
      "Epoch 29/1000\n",
      "36/36 [==============================] - 18s 492ms/step - loss: 0.1897 - accuracy: 0.9394 - val_loss: 1.4974 - val_accuracy: 0.6915\n",
      "Epoch 30/1000\n",
      "36/36 [==============================] - 18s 498ms/step - loss: 0.1126 - accuracy: 0.9649 - val_loss: 1.3890 - val_accuracy: 0.7270\n",
      "Epoch 31/1000\n",
      "36/36 [==============================] - 18s 488ms/step - loss: 0.1114 - accuracy: 0.9631 - val_loss: 1.6258 - val_accuracy: 0.7128\n",
      "Epoch 32/1000\n",
      "36/36 [==============================] - 18s 509ms/step - loss: 0.1280 - accuracy: 0.9570 - val_loss: 1.5165 - val_accuracy: 0.7270\n",
      "Epoch 33/1000\n",
      "36/36 [==============================] - 20s 561ms/step - loss: 0.0963 - accuracy: 0.9701 - val_loss: 1.7840 - val_accuracy: 0.6950\n",
      "Epoch 34/1000\n",
      "36/36 [==============================] - 20s 562ms/step - loss: 0.0780 - accuracy: 0.9772 - val_loss: 1.8173 - val_accuracy: 0.6986\n",
      "Epoch 35/1000\n",
      "36/36 [==============================] - 18s 495ms/step - loss: 0.0617 - accuracy: 0.9860 - val_loss: 1.6021 - val_accuracy: 0.7199\n",
      "Epoch 36/1000\n",
      "36/36 [==============================] - 19s 522ms/step - loss: 0.0642 - accuracy: 0.9789 - val_loss: 1.9719 - val_accuracy: 0.6844\n",
      "Epoch 37/1000\n",
      "36/36 [==============================] - 19s 517ms/step - loss: 0.0840 - accuracy: 0.9737 - val_loss: 1.6971 - val_accuracy: 0.6879\n",
      "Epoch 38/1000\n",
      "36/36 [==============================] - 19s 542ms/step - loss: 0.0894 - accuracy: 0.9754 - val_loss: 1.6352 - val_accuracy: 0.6950\n",
      "Epoch 39/1000\n",
      "36/36 [==============================] - 19s 540ms/step - loss: 0.0534 - accuracy: 0.9816 - val_loss: 1.5769 - val_accuracy: 0.7092\n",
      "Epoch 40/1000\n",
      "36/36 [==============================] - 20s 540ms/step - loss: 0.1036 - accuracy: 0.9675 - val_loss: 1.9508 - val_accuracy: 0.6915\n",
      "Epoch 41/1000\n",
      "36/36 [==============================] - 18s 506ms/step - loss: 0.0609 - accuracy: 0.9833 - val_loss: 1.7611 - val_accuracy: 0.7199\n",
      "Epoch 42/1000\n",
      "36/36 [==============================] - 19s 518ms/step - loss: 0.0880 - accuracy: 0.9737 - val_loss: 1.6963 - val_accuracy: 0.7163\n",
      "Epoch 43/1000\n",
      "36/36 [==============================] - 17s 480ms/step - loss: 0.0482 - accuracy: 0.9886 - val_loss: 1.6783 - val_accuracy: 0.7021\n",
      "Epoch 44/1000\n",
      "36/36 [==============================] - 18s 503ms/step - loss: 0.0502 - accuracy: 0.9816 - val_loss: 1.8660 - val_accuracy: 0.7305\n",
      "Epoch 45/1000\n",
      "36/36 [==============================] - 17s 482ms/step - loss: 0.0360 - accuracy: 0.9877 - val_loss: 1.9559 - val_accuracy: 0.7270\n",
      "Epoch 46/1000\n",
      "36/36 [==============================] - 18s 492ms/step - loss: 0.0417 - accuracy: 0.9877 - val_loss: 2.0550 - val_accuracy: 0.7270\n",
      "Epoch 47/1000\n",
      "36/36 [==============================] - 16s 441ms/step - loss: 0.0444 - accuracy: 0.9851 - val_loss: 1.7327 - val_accuracy: 0.7128\n",
      "Epoch 48/1000\n",
      "36/36 [==============================] - 16s 441ms/step - loss: 0.0753 - accuracy: 0.9789 - val_loss: 1.8342 - val_accuracy: 0.7340\n",
      "Epoch 49/1000\n",
      "36/36 [==============================] - 18s 512ms/step - loss: 0.1628 - accuracy: 0.9517 - val_loss: 2.0535 - val_accuracy: 0.6738\n",
      "Epoch 50/1000\n",
      "36/36 [==============================] - 18s 499ms/step - loss: 0.0955 - accuracy: 0.9675 - val_loss: 1.5606 - val_accuracy: 0.7092\n",
      "Epoch 51/1000\n",
      "36/36 [==============================] - 16s 447ms/step - loss: 0.1142 - accuracy: 0.9807 - val_loss: 1.6865 - val_accuracy: 0.7021\n",
      "Epoch 52/1000\n",
      "36/36 [==============================] - 16s 441ms/step - loss: 0.1137 - accuracy: 0.9675 - val_loss: 1.7207 - val_accuracy: 0.7057\n",
      "Epoch 53/1000\n",
      "36/36 [==============================] - 17s 474ms/step - loss: 0.0578 - accuracy: 0.9842 - val_loss: 1.7208 - val_accuracy: 0.7199\n",
      "Epoch 54/1000\n",
      "36/36 [==============================] - 16s 449ms/step - loss: 0.0732 - accuracy: 0.9789 - val_loss: 1.9929 - val_accuracy: 0.7270\n",
      "Epoch 55/1000\n",
      "36/36 [==============================] - 17s 460ms/step - loss: 0.0457 - accuracy: 0.9912 - val_loss: 1.6978 - val_accuracy: 0.7376\n",
      "Epoch 56/1000\n",
      "36/36 [==============================] - 18s 494ms/step - loss: 0.0564 - accuracy: 0.9807 - val_loss: 2.2014 - val_accuracy: 0.6809\n",
      "Epoch 57/1000\n",
      "36/36 [==============================] - 19s 528ms/step - loss: 0.0422 - accuracy: 0.9930 - val_loss: 1.8223 - val_accuracy: 0.7270\n",
      "Epoch 58/1000\n",
      "36/36 [==============================] - 17s 479ms/step - loss: 0.0497 - accuracy: 0.9860 - val_loss: 1.8113 - val_accuracy: 0.7128\n",
      "Epoch 59/1000\n",
      "36/36 [==============================] - 18s 507ms/step - loss: 0.0217 - accuracy: 0.9956 - val_loss: 2.0703 - val_accuracy: 0.7234\n",
      "Epoch 60/1000\n",
      "36/36 [==============================] - 18s 493ms/step - loss: 0.0459 - accuracy: 0.9868 - val_loss: 2.1621 - val_accuracy: 0.6986\n",
      "Epoch 61/1000\n",
      "36/36 [==============================] - 17s 485ms/step - loss: 0.0415 - accuracy: 0.9868 - val_loss: 1.9027 - val_accuracy: 0.7021\n",
      "Epoch 62/1000\n",
      "36/36 [==============================] - 16s 457ms/step - loss: 0.0276 - accuracy: 0.9912 - val_loss: 1.9951 - val_accuracy: 0.7163\n",
      "Epoch 63/1000\n",
      "36/36 [==============================] - 16s 447ms/step - loss: 0.0142 - accuracy: 0.9965 - val_loss: 2.0977 - val_accuracy: 0.7340\n",
      "Epoch 64/1000\n",
      "36/36 [==============================] - 16s 464ms/step - loss: 0.0153 - accuracy: 0.9956 - val_loss: 1.8828 - val_accuracy: 0.7411\n"
     ]
    }
   ],
   "source": [
    "accuracy_callback = AccuracyCallback()\n",
    "\n",
    "history = model.fit(\n",
    "    train_generator,\n",
    "    epochs=1000,\n",
    "    validation_data=validation_generator,\n",
    "    callbacks=[accuracy_callback]\n",
    ")"
   ]
  },
  {
   "cell_type": "markdown",
   "metadata": {},
   "source": [
    "### Visualisasi"
   ]
  },
  {
   "cell_type": "code",
   "execution_count": 47,
   "metadata": {},
   "outputs": [
    {
     "data": {
      "image/png": "[encoded data removed]",
      "text/plain": [
       "<Figure size 640x480 with 1 Axes>"
      ]
     },
     "metadata": {},
     "output_type": "display_data"
    }
   ],
   "source": [
    "plt.plot(history.history['accuracy'], label = 'accuracy')\n",
    "plt.plot(history.history['val_accuracy'], label = 'val_accuracy')\n",
    "plt.xlabel('Epoch')\n",
    "plt.ylabel('Accuracy')\n",
    "plt.ylim([0, 1])\n",
    "plt.legend(loc='lower right')\n",
    "plt.show()"
   ]
  },
  {
   "cell_type": "markdown",
   "metadata": {},
   "source": [
    "### Save ke TFlite"
   ]
  },
  {
   "cell_type": "code",
   "execution_count": 48,
   "metadata": {},
   "outputs": [
    {
     "name": "stdout",
     "output_type": "stream",
     "text": [
      "INFO:tensorflow:Assets written to: C:\\Users\\62813\\AppData\\Local\\Temp\\tmp5yqrue64\\assets\n"
     ]
    },
    {
     "name": "stderr",
     "output_type": "stream",
     "text": [
      "INFO:tensorflow:Assets written to: C:\\Users\\62813\\AppData\\Local\\Temp\\tmp5yqrue64\\assets\n"
     ]
    }
   ],
   "source": [
    "converter = tf.lite.TFLiteConverter.from_keras_model(model)\n",
    "tflite_model = converter.convert()\n",
    "\n",
    "with open('model.tflite', 'wb') as f:\n",
    "    f.write(tflite_model)"
   ]
  }
 ],
 "metadata": {
  "kernelspec": {
   "display_name": "Python 3",
   "language": "python",
   "name": "python3"
  },
  "language_info": {
   "codemirror_mode": {
    "name": "ipython",
    "version": 3
   },
   "file_extension": ".py",
   "mimetype": "text/x-python",
   "name": "python",
   "nbconvert_exporter": "python",
   "pygments_lexer": "ipython3",
   "version": "3.11.1"
  }
 },
 "nbformat": 4,
 "nbformat_minor": 2
}
