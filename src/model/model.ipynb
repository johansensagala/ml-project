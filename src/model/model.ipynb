{
 "cells": [
  {
   "cell_type": "markdown",
   "metadata": {},
   "source": [
    "### Import Library"
   ]
  },
  {
   "cell_type": "code",
   "execution_count": 1,
   "metadata": {},
   "outputs": [
    {
     "name": "stdout",
     "output_type": "stream",
     "text": [
      "WARNING:tensorflow:From c:\\Users\\62813\\AppData\\Local\\Programs\\Python\\Python311\\Lib\\site-packages\\keras\\src\\losses.py:2976: The name tf.losses.sparse_softmax_cross_entropy is deprecated. Please use tf.compat.v1.losses.sparse_softmax_cross_entropy instead.\n",
      "\n"
     ]
    }
   ],
   "source": [
    "import tensorflow as tf\n",
    "from tensorflow.keras import layers, models\n",
    "from tensorflow.keras.preprocessing.image import ImageDataGenerator\n",
    "import matplotlib.pyplot as plt"
   ]
  },
  {
   "cell_type": "markdown",
   "metadata": {},
   "source": [
    "### Atur dataset"
   ]
  },
  {
   "cell_type": "code",
   "execution_count": 2,
   "metadata": {},
   "outputs": [
    {
     "name": "stdout",
     "output_type": "stream",
     "text": [
      "Found 873 images belonging to 6 classes.\n",
      "Found 216 images belonging to 6 classes.\n"
     ]
    }
   ],
   "source": [
    "dataset_path = '../../data/raw'\n",
    "\n",
    "# Augmentasi\n",
    "datagen = ImageDataGenerator(\n",
    "    rescale=1./255,\n",
    "    shear_range=0.2,\n",
    "    zoom_range=0.2,\n",
    "    horizontal_flip=True,\n",
    "    # brightness_range=[0.5, 1.5],\n",
    "    validation_split=0.2\n",
    ")\n",
    "\n",
    "# Untuk training dan validasi\n",
    "train_generator = datagen.flow_from_directory(\n",
    "    dataset_path,\n",
    "    target_size=(128, 128),\n",
    "    batch_size=32,\n",
    "    class_mode='categorical',\n",
    "    subset='training'\n",
    ")\n",
    "\n",
    "validation_generator = datagen.flow_from_directory(\n",
    "    dataset_path,\n",
    "    target_size=(128, 128),\n",
    "    batch_size=32,\n",
    "    class_mode='categorical',\n",
    "    subset='validation'\n",
    ")"
   ]
  },
  {
   "cell_type": "markdown",
   "metadata": {},
   "source": [
    "### Bangun model"
   ]
  },
  {
   "cell_type": "code",
   "execution_count": 3,
   "metadata": {},
   "outputs": [
    {
     "name": "stdout",
     "output_type": "stream",
     "text": [
      "WARNING:tensorflow:From c:\\Users\\62813\\AppData\\Local\\Programs\\Python\\Python311\\Lib\\site-packages\\keras\\src\\backend.py:873: The name tf.get_default_graph is deprecated. Please use tf.compat.v1.get_default_graph instead.\n",
      "\n",
      "WARNING:tensorflow:From c:\\Users\\62813\\AppData\\Local\\Programs\\Python\\Python311\\Lib\\site-packages\\keras\\src\\layers\\pooling\\max_pooling2d.py:161: The name tf.nn.max_pool is deprecated. Please use tf.nn.max_pool2d instead.\n",
      "\n"
     ]
    }
   ],
   "source": [
    "# Buat model\n",
    "model = models.Sequential()\n",
    "model.add(layers.Conv2D(32, (3, 3), activation='relu', input_shape=(128, 128, 3)))\n",
    "model.add(layers.MaxPooling2D((2, 2)))\n",
    "model.add(layers.Conv2D(64, (3, 3), activation='relu'))\n",
    "model.add(layers.MaxPooling2D((2, 2)))\n",
    "model.add(layers.Conv2D(128, (3, 3), activation='relu'))\n",
    "model.add(layers.MaxPooling2D((2, 2)))\n",
    "model.add(layers.Flatten())\n",
    "model.add(layers.Dense(6, activation='softmax'))"
   ]
  },
  {
   "cell_type": "markdown",
   "metadata": {},
   "source": [
    "### Compile model"
   ]
  },
  {
   "cell_type": "code",
   "execution_count": 4,
   "metadata": {},
   "outputs": [
    {
     "name": "stdout",
     "output_type": "stream",
     "text": [
      "WARNING:tensorflow:From c:\\Users\\62813\\AppData\\Local\\Programs\\Python\\Python311\\Lib\\site-packages\\keras\\src\\optimizers\\__init__.py:309: The name tf.train.Optimizer is deprecated. Please use tf.compat.v1.train.Optimizer instead.\n",
      "\n"
     ]
    }
   ],
   "source": [
    "# Compile model\n",
    "model.compile(optimizer='adam',\n",
    "              loss='categorical_crossentropy',\n",
    "              metrics=['accuracy'])\n"
   ]
  },
  {
   "cell_type": "markdown",
   "metadata": {},
   "source": [
    "### Train model"
   ]
  },
  {
   "cell_type": "code",
   "execution_count": 5,
   "metadata": {},
   "outputs": [
    {
     "name": "stdout",
     "output_type": "stream",
     "text": [
      "Epoch 1/50\n",
      "WARNING:tensorflow:From c:\\Users\\62813\\AppData\\Local\\Programs\\Python\\Python311\\Lib\\site-packages\\keras\\src\\utils\\tf_utils.py:492: The name tf.ragged.RaggedTensorValue is deprecated. Please use tf.compat.v1.ragged.RaggedTensorValue instead.\n",
      "\n",
      "WARNING:tensorflow:From c:\\Users\\62813\\AppData\\Local\\Programs\\Python\\Python311\\Lib\\site-packages\\keras\\src\\engine\\base_layer_utils.py:384: The name tf.executing_eagerly_outside_functions is deprecated. Please use tf.compat.v1.executing_eagerly_outside_functions instead.\n",
      "\n",
      "28/28 [==============================] - 15s 480ms/step - loss: 1.7440 - accuracy: 0.2658 - val_loss: 1.6022 - val_accuracy: 0.4028\n",
      "Epoch 2/50\n",
      "28/28 [==============================] - 12s 416ms/step - loss: 1.4558 - accuracy: 0.4559 - val_loss: 1.4629 - val_accuracy: 0.4676\n",
      "Epoch 3/50\n",
      "28/28 [==============================] - 12s 413ms/step - loss: 1.2018 - accuracy: 0.5659 - val_loss: 1.3779 - val_accuracy: 0.5093\n",
      "Epoch 4/50\n",
      "28/28 [==============================] - 12s 417ms/step - loss: 1.0078 - accuracy: 0.6472 - val_loss: 1.2609 - val_accuracy: 0.5602\n",
      "Epoch 5/50\n",
      "28/28 [==============================] - 12s 419ms/step - loss: 0.9422 - accuracy: 0.6621 - val_loss: 1.2894 - val_accuracy: 0.5602\n",
      "Epoch 6/50\n",
      "28/28 [==============================] - 12s 419ms/step - loss: 0.8831 - accuracy: 0.6930 - val_loss: 1.1865 - val_accuracy: 0.5972\n",
      "Epoch 7/50\n",
      "28/28 [==============================] - 12s 432ms/step - loss: 0.8032 - accuracy: 0.7159 - val_loss: 1.2382 - val_accuracy: 0.6065\n",
      "Epoch 8/50\n",
      "28/28 [==============================] - 12s 421ms/step - loss: 0.6986 - accuracy: 0.7709 - val_loss: 1.5651 - val_accuracy: 0.5463\n",
      "Epoch 9/50\n",
      "28/28 [==============================] - 12s 421ms/step - loss: 0.7336 - accuracy: 0.7400 - val_loss: 1.3401 - val_accuracy: 0.5694\n",
      "Epoch 10/50\n",
      "28/28 [==============================] - 12s 421ms/step - loss: 0.6464 - accuracy: 0.7778 - val_loss: 1.2806 - val_accuracy: 0.6435\n",
      "Epoch 11/50\n",
      "28/28 [==============================] - 12s 423ms/step - loss: 0.6374 - accuracy: 0.7904 - val_loss: 1.1254 - val_accuracy: 0.6157\n",
      "Epoch 12/50\n",
      "28/28 [==============================] - 12s 427ms/step - loss: 0.5467 - accuracy: 0.8179 - val_loss: 1.2585 - val_accuracy: 0.6620\n",
      "Epoch 13/50\n",
      "28/28 [==============================] - 12s 426ms/step - loss: 0.4775 - accuracy: 0.8270 - val_loss: 1.0115 - val_accuracy: 0.6944\n",
      "Epoch 14/50\n",
      "28/28 [==============================] - 12s 422ms/step - loss: 0.4589 - accuracy: 0.8557 - val_loss: 1.1661 - val_accuracy: 0.6759\n",
      "Epoch 15/50\n",
      "28/28 [==============================] - 13s 457ms/step - loss: 0.3714 - accuracy: 0.8774 - val_loss: 1.4131 - val_accuracy: 0.6620\n",
      "Epoch 16/50\n",
      "28/28 [==============================] - 12s 435ms/step - loss: 0.3375 - accuracy: 0.8923 - val_loss: 1.3095 - val_accuracy: 0.6991\n",
      "Epoch 17/50\n",
      "28/28 [==============================] - 12s 436ms/step - loss: 0.2968 - accuracy: 0.9049 - val_loss: 1.3260 - val_accuracy: 0.7176\n",
      "Epoch 18/50\n",
      "28/28 [==============================] - 12s 423ms/step - loss: 0.2577 - accuracy: 0.9061 - val_loss: 1.2493 - val_accuracy: 0.7083\n",
      "Epoch 19/50\n",
      "28/28 [==============================] - 12s 422ms/step - loss: 0.2433 - accuracy: 0.9187 - val_loss: 1.5660 - val_accuracy: 0.7361\n",
      "Epoch 20/50\n",
      "28/28 [==============================] - 12s 425ms/step - loss: 0.2223 - accuracy: 0.9278 - val_loss: 1.3582 - val_accuracy: 0.7361\n",
      "Epoch 21/50\n",
      "28/28 [==============================] - 12s 430ms/step - loss: 0.1771 - accuracy: 0.9359 - val_loss: 1.5848 - val_accuracy: 0.7778\n",
      "Epoch 22/50\n",
      "28/28 [==============================] - 12s 442ms/step - loss: 0.2103 - accuracy: 0.9164 - val_loss: 1.3952 - val_accuracy: 0.7454\n",
      "Epoch 23/50\n",
      "28/28 [==============================] - 13s 455ms/step - loss: 0.2281 - accuracy: 0.9175 - val_loss: 1.5482 - val_accuracy: 0.7222\n",
      "Epoch 24/50\n",
      "28/28 [==============================] - 12s 446ms/step - loss: 0.1721 - accuracy: 0.9496 - val_loss: 1.6833 - val_accuracy: 0.7269\n",
      "Epoch 25/50\n",
      "28/28 [==============================] - 12s 430ms/step - loss: 0.2241 - accuracy: 0.9198 - val_loss: 1.4567 - val_accuracy: 0.7269\n",
      "Epoch 26/50\n",
      "28/28 [==============================] - 12s 434ms/step - loss: 0.1787 - accuracy: 0.9393 - val_loss: 1.4642 - val_accuracy: 0.7546\n",
      "Epoch 27/50\n",
      "28/28 [==============================] - 12s 435ms/step - loss: 0.1228 - accuracy: 0.9645 - val_loss: 1.4787 - val_accuracy: 0.7407\n",
      "Epoch 28/50\n",
      "28/28 [==============================] - 13s 452ms/step - loss: 0.1284 - accuracy: 0.9588 - val_loss: 1.5959 - val_accuracy: 0.7361\n",
      "Epoch 29/50\n",
      "28/28 [==============================] - 13s 454ms/step - loss: 0.1279 - accuracy: 0.9576 - val_loss: 1.5248 - val_accuracy: 0.7222\n",
      "Epoch 30/50\n",
      "28/28 [==============================] - 14s 503ms/step - loss: 0.1957 - accuracy: 0.9347 - val_loss: 1.5790 - val_accuracy: 0.7407\n",
      "Epoch 31/50\n",
      "28/28 [==============================] - 15s 555ms/step - loss: 0.1155 - accuracy: 0.9691 - val_loss: 2.1148 - val_accuracy: 0.7176\n",
      "Epoch 32/50\n",
      "28/28 [==============================] - 15s 532ms/step - loss: 0.1344 - accuracy: 0.9599 - val_loss: 1.5357 - val_accuracy: 0.7315\n",
      "Epoch 33/50\n",
      "28/28 [==============================] - 14s 507ms/step - loss: 0.1518 - accuracy: 0.9553 - val_loss: 1.4630 - val_accuracy: 0.7639\n",
      "Epoch 34/50\n",
      "28/28 [==============================] - 14s 511ms/step - loss: 0.1434 - accuracy: 0.9496 - val_loss: 1.3888 - val_accuracy: 0.7639\n",
      "Epoch 35/50\n",
      "28/28 [==============================] - 14s 509ms/step - loss: 0.0775 - accuracy: 0.9771 - val_loss: 1.7536 - val_accuracy: 0.7361\n",
      "Epoch 36/50\n",
      "28/28 [==============================] - 13s 465ms/step - loss: 0.0593 - accuracy: 0.9840 - val_loss: 1.5905 - val_accuracy: 0.7685\n",
      "Epoch 37/50\n",
      "28/28 [==============================] - 14s 490ms/step - loss: 0.0694 - accuracy: 0.9782 - val_loss: 1.5936 - val_accuracy: 0.7315\n",
      "Epoch 38/50\n",
      "28/28 [==============================] - 13s 463ms/step - loss: 0.0753 - accuracy: 0.9817 - val_loss: 1.6073 - val_accuracy: 0.7546\n",
      "Epoch 39/50\n",
      "28/28 [==============================] - 14s 488ms/step - loss: 0.1874 - accuracy: 0.9462 - val_loss: 1.3431 - val_accuracy: 0.7500\n",
      "Epoch 40/50\n",
      "28/28 [==============================] - 14s 483ms/step - loss: 0.1137 - accuracy: 0.9611 - val_loss: 1.6639 - val_accuracy: 0.7176\n",
      "Epoch 41/50\n",
      "28/28 [==============================] - 13s 465ms/step - loss: 0.0601 - accuracy: 0.9885 - val_loss: 1.6409 - val_accuracy: 0.7454\n",
      "Epoch 42/50\n",
      "28/28 [==============================] - 13s 467ms/step - loss: 0.0798 - accuracy: 0.9771 - val_loss: 1.5078 - val_accuracy: 0.7546\n",
      "Epoch 43/50\n",
      "28/28 [==============================] - 14s 486ms/step - loss: 0.0558 - accuracy: 0.9863 - val_loss: 1.5795 - val_accuracy: 0.7546\n",
      "Epoch 44/50\n",
      "28/28 [==============================] - 14s 492ms/step - loss: 0.0301 - accuracy: 0.9943 - val_loss: 1.7304 - val_accuracy: 0.7361\n",
      "Epoch 45/50\n",
      "28/28 [==============================] - 13s 466ms/step - loss: 0.0333 - accuracy: 0.9908 - val_loss: 1.6317 - val_accuracy: 0.7917\n",
      "Epoch 46/50\n",
      "28/28 [==============================] - 14s 487ms/step - loss: 0.0368 - accuracy: 0.9897 - val_loss: 1.6792 - val_accuracy: 0.7500\n",
      "Epoch 47/50\n",
      "28/28 [==============================] - 13s 485ms/step - loss: 0.0676 - accuracy: 0.9782 - val_loss: 1.9860 - val_accuracy: 0.7269\n",
      "Epoch 48/50\n",
      "28/28 [==============================] - 14s 507ms/step - loss: 0.0448 - accuracy: 0.9908 - val_loss: 2.1916 - val_accuracy: 0.7593\n",
      "Epoch 49/50\n",
      "28/28 [==============================] - 13s 470ms/step - loss: 0.0372 - accuracy: 0.9885 - val_loss: 1.6991 - val_accuracy: 0.7731\n",
      "Epoch 50/50\n",
      "28/28 [==============================] - 13s 470ms/step - loss: 0.0418 - accuracy: 0.9920 - val_loss: 1.5525 - val_accuracy: 0.7778\n"
     ]
    }
   ],
   "source": [
    "history = model.fit(\n",
    "    train_generator,\n",
    "    epochs=50,\n",
    "    validation_data=validation_generator\n",
    ")"
   ]
  },
  {
   "cell_type": "markdown",
   "metadata": {},
   "source": [
    "### Visualisasi"
   ]
  },
  {
   "cell_type": "code",
   "execution_count": 6,
   "metadata": {},
   "outputs": [
    {
     "data": {
      "image/png": "[encoded data removed]",
      "text/plain": [
       "<Figure size 640x480 with 1 Axes>"
      ]
     },
     "metadata": {},
     "output_type": "display_data"
    }
   ],
   "source": [
    "plt.plot(history.history['accuracy'], label = 'accuracy')\n",
    "plt.plot(history.history['val_accuracy'], label = 'val_accuracy')\n",
    "plt.xlabel('Epoch')\n",
    "plt.ylabel('Accuracy')\n",
    "plt.ylim([0, 1])\n",
    "plt.legend(loc='lower right')\n",
    "plt.show()"
   ]
  },
  {
   "cell_type": "markdown",
   "metadata": {},
   "source": [
    "### Save ke TFlite"
   ]
  },
  {
   "cell_type": "code",
   "execution_count": 7,
   "metadata": {},
   "outputs": [
    {
     "name": "stdout",
     "output_type": "stream",
     "text": [
      "INFO:tensorflow:Assets written to: C:\\Users\\62813\\AppData\\Local\\Temp\\tmpywk_g1bf\\assets\n"
     ]
    },
    {
     "name": "stderr",
     "output_type": "stream",
     "text": [
      "INFO:tensorflow:Assets written to: C:\\Users\\62813\\AppData\\Local\\Temp\\tmpywk_g1bf\\assets\n"
     ]
    }
   ],
   "source": [
    "converter = tf.lite.TFLiteConverter.from_keras_model(model)\n",
    "tflite_model = converter.convert()\n",
    "\n",
    "with open('model.tflite', 'wb') as f:\n",
    "    f.write(tflite_model)"
   ]
  }
 ],
 "metadata": {
  "kernelspec": {
   "display_name": "Python 3",
   "language": "python",
   "name": "python3"
  },
  "language_info": {
   "codemirror_mode": {
    "name": "ipython",
    "version": 3
   },
   "file_extension": ".py",
   "mimetype": "text/x-python",
   "name": "python",
   "nbconvert_exporter": "python",
   "pygments_lexer": "ipython3",
   "version": "3.11.1"
  }
 },
 "nbformat": 4,
 "nbformat_minor": 2
}
