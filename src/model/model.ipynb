{
 "cells": [
  {
   "cell_type": "markdown",
   "metadata": {},
   "source": [
    "### Import Library"
   ]
  },
  {
   "cell_type": "code",
   "execution_count": 7,
   "metadata": {},
   "outputs": [],
   "source": [
    "import tensorflow as tf\n",
    "from tensorflow.keras import layers, models\n",
    "from tensorflow.keras.preprocessing.image import ImageDataGenerator\n",
    "import matplotlib.pyplot as plt"
   ]
  },
  {
   "cell_type": "markdown",
   "metadata": {},
   "source": [
    "### Atur dataset"
   ]
  },
  {
   "cell_type": "code",
   "execution_count": 8,
   "metadata": {},
   "outputs": [
    {
     "name": "stdout",
     "output_type": "stream",
     "text": [
      "Found 412 images belonging to 8 classes.\n",
      "Found 99 images belonging to 8 classes.\n"
     ]
    }
   ],
   "source": [
    "dataset_path = '../../data/raw copy'\n",
    "\n",
    "# Augmentasi\n",
    "train_datagen = ImageDataGenerator(rescale=1./255, validation_split=0.2)\n",
    "\n",
    "# Untuk training\n",
    "train_generator = train_datagen.flow_from_directory(\n",
    "    dataset_path,\n",
    "    target_size=(128, 128),\n",
    "    batch_size=32,\n",
    "    class_mode='categorical',\n",
    "    subset='training'\n",
    ")\n",
    "\n",
    "# Untuk validasi\n",
    "validation_generator = train_datagen.flow_from_directory(\n",
    "    dataset_path,\n",
    "    target_size=(128, 128),\n",
    "    batch_size=32,\n",
    "    class_mode='categorical',\n",
    "    subset='validation'\n",
    ")"
   ]
  },
  {
   "cell_type": "markdown",
   "metadata": {},
   "source": [
    "### Bangun model"
   ]
  },
  {
   "cell_type": "code",
   "execution_count": 9,
   "metadata": {},
   "outputs": [],
   "source": [
    "# Buat model\n",
    "model = models.Sequential()\n",
    "model.add(layers.Conv2D(32, (3, 3), activation='relu', input_shape=(128, 128, 3)))\n",
    "model.add(layers.MaxPooling2D((2, 2)))\n",
    "model.add(layers.Conv2D(64, (3, 3), activation='relu'))\n",
    "model.add(layers.MaxPooling2D((2, 2)))\n",
    "model.add(layers.Conv2D(128, (3, 3), activation='relu'))\n",
    "model.add(layers.MaxPooling2D((2, 2)))\n",
    "model.add(layers.Flatten())\n",
    "model.add(layers.Dense(128, activation='relu'))\n",
    "model.add(layers.Dense(8, activation='softmax'))"
   ]
  },
  {
   "cell_type": "markdown",
   "metadata": {},
   "source": [
    "### Compile model"
   ]
  },
  {
   "cell_type": "code",
   "execution_count": 10,
   "metadata": {},
   "outputs": [],
   "source": [
    "\n",
    "# Compile model\n",
    "model.compile(optimizer='adam',\n",
    "              loss='categorical_crossentropy',\n",
    "              metrics=['accuracy'])"
   ]
  },
  {
   "cell_type": "markdown",
   "metadata": {},
   "source": [
    "### Train model"
   ]
  },
  {
   "cell_type": "code",
   "execution_count": 11,
   "metadata": {},
   "outputs": [
    {
     "name": "stdout",
     "output_type": "stream",
     "text": [
      "Epoch 1/10\n",
      "13/13 [==============================] - 11s 762ms/step - loss: 2.2205 - accuracy: 0.1869 - val_loss: 1.9616 - val_accuracy: 0.2525\n",
      "Epoch 2/10\n",
      "13/13 [==============================] - 9s 656ms/step - loss: 1.6773 - accuracy: 0.3519 - val_loss: 1.6337 - val_accuracy: 0.4343\n",
      "Epoch 3/10\n",
      "13/13 [==============================] - 8s 627ms/step - loss: 1.3525 - accuracy: 0.4976 - val_loss: 1.4742 - val_accuracy: 0.4747\n",
      "Epoch 4/10\n",
      "13/13 [==============================] - 8s 634ms/step - loss: 1.0212 - accuracy: 0.6432 - val_loss: 1.0626 - val_accuracy: 0.6364\n",
      "Epoch 5/10\n",
      "13/13 [==============================] - 8s 597ms/step - loss: 0.6956 - accuracy: 0.7573 - val_loss: 1.3960 - val_accuracy: 0.5455\n",
      "Epoch 6/10\n",
      "13/13 [==============================] - 8s 602ms/step - loss: 0.5611 - accuracy: 0.8131 - val_loss: 1.0836 - val_accuracy: 0.6263\n",
      "Epoch 7/10\n",
      "13/13 [==============================] - 8s 593ms/step - loss: 0.3229 - accuracy: 0.9053 - val_loss: 1.3404 - val_accuracy: 0.5556\n",
      "Epoch 8/10\n",
      "13/13 [==============================] - 9s 693ms/step - loss: 0.2261 - accuracy: 0.9320 - val_loss: 1.2276 - val_accuracy: 0.6061\n",
      "Epoch 9/10\n",
      "13/13 [==============================] - 10s 741ms/step - loss: 0.1182 - accuracy: 0.9709 - val_loss: 1.3143 - val_accuracy: 0.5556\n",
      "Epoch 10/10\n",
      "13/13 [==============================] - 9s 628ms/step - loss: 0.0552 - accuracy: 0.9951 - val_loss: 1.4114 - val_accuracy: 0.5758\n"
     ]
    }
   ],
   "source": [
    "history = model.fit(\n",
    "    train_generator,\n",
    "    epochs=10,\n",
    "    validation_data=validation_generator\n",
    ")"
   ]
  },
  {
   "cell_type": "markdown",
   "metadata": {},
   "source": [
    "### Visualisasi"
   ]
  },
  {
   "cell_type": "code",
   "execution_count": 12,
   "metadata": {},
   "outputs": [
    {
     "data": {
      "image/png": "[encoded data removed]",
      "text/plain": [
       "<Figure size 640x480 with 1 Axes>"
      ]
     },
     "metadata": {},
     "output_type": "display_data"
    }
   ],
   "source": [
    "plt.plot(history.history['accuracy'], label='accuracy')\n",
    "plt.plot(history.history['val_accuracy'], label='val_accuracy')\n",
    "plt.xlabel('Epoch')\n",
    "plt.ylabel('Accuracy')\n",
    "plt.ylim([0, 1])\n",
    "plt.legend(loc='lower right')\n",
    "plt.show()"
   ]
  }
 ],
 "metadata": {
  "kernelspec": {
   "display_name": "Python 3",
   "language": "python",
   "name": "python3"
  },
  "language_info": {
   "codemirror_mode": {
    "name": "ipython",
    "version": 3
   },
   "file_extension": ".py",
   "mimetype": "text/x-python",
   "name": "python",
   "nbconvert_exporter": "python",
   "pygments_lexer": "ipython3",
   "version": "3.11.1"
  }
 },
 "nbformat": 4,
 "nbformat_minor": 2
}
